{
 "cells": [
  {
   "cell_type": "markdown",
   "metadata": {},
   "source": [
    "## Import libraries"
   ]
  },
  {
   "cell_type": "code",
   "execution_count": 29,
   "metadata": {},
   "outputs": [],
   "source": [
    "import scipy.io as scio\n",
    "import numpy as np \n",
    "import matplotlib.pyplot as plt\n",
    "import torch\n",
    "import torch.nn as nn\n",
    "import tqdm\n",
    "data = scio.loadmat('monkeydata_training.mat')\n",
    "trials = data['trial'].reshape(100,8)"
   ]
  },
  {
   "cell_type": "markdown",
   "metadata": {},
   "source": [
    "## 1D CNN - Feedforward"
   ]
  },
  {
   "cell_type": "code",
   "execution_count": 127,
   "metadata": {},
   "outputs": [],
   "source": [
    "class FeedForward(nn.Module):\n",
    "    def __init__(self,num_layers,layer_size):\n",
    "        super(FeedForward, self).__init__()\n",
    "        self.conv = nn.Conv1d(98,20,kernel_size=1,padding='same') \n",
    "        self.relu = nn.ReLU()\n",
    "        \n",
    "        self.flat = nn.Flatten(1)\n",
    "        self.drop = nn.Dropout(p=0.2)\n",
    "        \n",
    "        self.fc1 = nn.Linear(6000, layer_size) \n",
    "        \n",
    "        if num_layers == 2:\n",
    "            self.feedforward = nn.Sequential(\n",
    "                nn.ReLU()\n",
    "            )\n",
    "        elif num_layers == 3:\n",
    "            self.feedforward = nn.Sequential(\n",
    "                nn.ReLU(),\n",
    "                nn.Linear(layer_size, layer_size),\n",
    "                nn.ReLU()\n",
    "            )\n",
    "        elif num_layers == 4:\n",
    "            self.feedforward = nn.Sequential(\n",
    "                nn.ReLU(),\n",
    "                nn.Linear(layer_size, layer_size),\n",
    "                nn.ReLU(),\n",
    "                nn.Linear(layer_size, layer_size),\n",
    "                nn.ReLU()\n",
    "            )\n",
    "       \n",
    "        self.fc2 = nn.Linear(layer_size, 2)\n",
    "    \n",
    "    def forward(self, x):\n",
    "        output = self.conv(x)\n",
    "        output = self.relu(output)\n",
    "        output = self.flat(output)\n",
    "        output = self.drop(output)\n",
    "        output = self.fc1(output)\n",
    "        output = self.feedforward(output)\n",
    "        output = self.fc2(output)   \n",
    "        return output"
   ]
  },
  {
   "cell_type": "markdown",
   "metadata": {},
   "source": [
    "## 2D CNN "
   ]
  },
  {
   "cell_type": "code",
   "execution_count": 7,
   "metadata": {},
   "outputs": [],
   "source": [
    "class CNN2D(nn.Module):\n",
    "    def __init__(self):\n",
    "        super(CNN2D, self).__init__()\n",
    "        self.conv1 = nn.Conv2d(200,100,kernel_size=1,padding='same') \n",
    "        self.relu1 = nn.ReLU()\n",
    "        self.pool1 = nn.MaxPool2d(2, stride=2, padding=1)\n",
    "        self.conv2 = nn.Conv2d(100,100,kernel_size=1,padding='same') \n",
    "        self.relu2 = nn.ReLU()\n",
    "\n",
    "        self.flat = nn.Flatten(1)\n",
    "        self.drop = nn.Dropout(p=0.1)\n",
    "\n",
    "        self.fc1 = nn.Linear(400, 100)\n",
    "        self.relu3 = nn.ReLU()\n",
    "        self.fc2 = nn.Linear(100, 2)\n",
    "        self.softmax = nn.Softmax(dim=1)  \n",
    "    \n",
    "    def forward(self, x):\n",
    "        output = self.conv1(x)\n",
    "        output = self.relu1(output)\n",
    "        output = self.pool1(output)\n",
    "        output = self.conv2(output)\n",
    "        output = self.relu2(output)\n",
    "    \n",
    "        output = self.flat(output)\n",
    "        output = self.drop(output)\n",
    "        \n",
    "        output = self.fc1(output)\n",
    "        output = self.relu3(output)\n",
    "        output = self.fc2(output)\n",
    "        output = self.softmax(output)\n",
    "        return output"
   ]
  },
  {
   "cell_type": "markdown",
   "metadata": {},
   "source": [
    "## RNN"
   ]
  },
  {
   "cell_type": "code",
   "execution_count": null,
   "metadata": {},
   "outputs": [],
   "source": [
    "class RNN(nn.Module):\n",
    "    def __init__(self, input_size, hidden_size, output_size):\n",
    "        super(RNN, self).__init__()\n",
    "\n",
    "        self.hidden_size = hidden_size\n",
    "\n",
    "        self.i2h = nn.Linear(input_size + hidden_size, hidden_size)\n",
    "        self.i2o = nn.Linear(input_size + hidden_size, output_size)\n",
    "        self.softmax = nn.LogSoftmax(dim=1)\n",
    "\n",
    "    def forward(self, input, hidden):\n",
    "        combined = torch.cat((input, hidden), 1)\n",
    "        hidden = self.i2h(combined)\n",
    "        output = self.i2o(combined)\n",
    "        output = self.softmax(output)\n",
    "        return output, hidden\n",
    "\n",
    "    def initHidden(self):\n",
    "        return torch.zeros(1, self.hidden_size)"
   ]
  },
  {
   "cell_type": "markdown",
   "metadata": {},
   "source": [
    "## Train & test functions"
   ]
  },
  {
   "cell_type": "code",
   "execution_count": 126,
   "metadata": {},
   "outputs": [],
   "source": [
    "def train_model(model, X, Y, learning_rate=0.005, num_epochs=100):\n",
    "    dataset = torch.utils.data.TensorDataset(X, Y)\n",
    "    data_loader = torch.utils.data.DataLoader(dataset, batch_size=None,\n",
    "            sampler=torch.utils.data.BatchSampler(torch.utils.data.RandomSampler(dataset), batch_size=100000, drop_last=False))\n",
    "\n",
    "    criterion = nn.MSELoss()\n",
    "    optimizer = torch.optim.SGD(model.parameters(), lr=learning_rate)\n",
    "    model.train();\n",
    "\n",
    "    loss_history = []\n",
    "    for _ in tqdm.trange(num_epochs):\n",
    "            for _, (inputs, targets) in enumerate(data_loader):\n",
    "                    optimizer.zero_grad()\n",
    "                    y_pred = model(inputs)\n",
    "                    loss = criterion(y_pred, targets)\n",
    "                    loss.backward()\n",
    "                    optimizer.step()\n",
    "                    loss_history.append(loss.item())\n",
    "                    \n",
    "    return model"
   ]
  },
  {
   "cell_type": "code",
   "execution_count": 124,
   "metadata": {},
   "outputs": [],
   "source": [
    "def test_model(model, X, Y):\n",
    "    model.eval();\n",
    "    y_pred = model(X) # GIVES ALL NAN :(\n",
    "\n",
    "    length = len(y_pred)\n",
    "    results = np.zeros((length,2))\n",
    "    target  = np.zeros((length,2))\n",
    "    for i in range(length):\n",
    "        target[i,:]  = Y[i].detach().numpy()\n",
    "        results[i,:] = y_pred[i].detach().numpy()\n",
    "            \n",
    "    error = np.divide((target - results),target)    \n",
    "    _, axs = plt.subplots(1,2, figsize=(10,5))\n",
    "    axs[0].plot(error[:,0])\n",
    "    axs[1].plot(error[:,1])"
   ]
  },
  {
   "cell_type": "markdown",
   "metadata": {},
   "source": [
    "## Workflow"
   ]
  },
  {
   "cell_type": "code",
   "execution_count": 101,
   "metadata": {},
   "outputs": [],
   "source": [
    "# Prep data for CNN\n",
    "# Use data 300ms long in 20ms intervals\n",
    "# Input  -- (num_segments,98,300) OR 300,98???\n",
    "# Output -- (deltaX, deltaY)\n",
    "\n",
    "# Spikes  -- trials[:,:][1] -- (98, length)\n",
    "# HandPos -- trials[:,:][2] -- (3,  length)\n",
    "\n",
    "training = trials[:75,:]\n",
    "testing  = trials[75:,:]"
   ]
  },
  {
   "cell_type": "code",
   "execution_count": 105,
   "metadata": {},
   "outputs": [],
   "source": [
    "training_X = []\n",
    "training_Y = []\n",
    "for i in range(75):\n",
    "    for j in range(8):\n",
    "        spikes  = training[i,j][1]\n",
    "        handpos = training[i,j][2]\n",
    "        for n in range(int(np.floor((spikes.shape[1]-300)/20))):\n",
    "            training_X.append(spikes[:,n*20:n*20+300])\n",
    "            training_Y.append(((handpos[1,n*20+299]-handpos[1,n*20])*100, (handpos[2,n*20+299]-handpos[2,n*20])*100))\n",
    "\n",
    "training_X = torch.FloatTensor(training_X)\n",
    "training_Y = torch.FloatTensor(training_Y)\n",
    "\n",
    "testing_X = []\n",
    "testing_Y = []\n",
    "for i in range(25):\n",
    "    for j in range(8):\n",
    "        spikes  = testing[i,j][1]\n",
    "        handpos = testing[i,j][2]\n",
    "        for n in range(int(np.floor((spikes.shape[1]-300)/20))):\n",
    "            testing_X.append(spikes[:,n*20:n*20+300])\n",
    "            testing_Y.append(((handpos[1,n*20+299]-handpos[1,n*20])*100, (handpos[2,n*20+299]-handpos[2,n*20])*100))\n",
    "\n",
    "testing_X = torch.FloatTensor(testing_X)\n",
    "testing_Y = torch.FloatTensor(testing_Y)"
   ]
  },
  {
   "cell_type": "code",
   "execution_count": 128,
   "metadata": {},
   "outputs": [
    {
     "name": "stderr",
     "output_type": "stream",
     "text": [
      "100%|██████████| 100/100 [34:32<00:00, 20.72s/it]\n"
     ]
    }
   ],
   "source": [
    "feedforward = FeedForward(3,20)\n",
    "feedforward = train_model(feedforward, training_X, training_Y)"
   ]
  },
  {
   "cell_type": "code",
   "execution_count": 125,
   "metadata": {},
   "outputs": [
    {
     "name": "stdout",
     "output_type": "stream",
     "text": [
      "tensor([nan, nan, nan,  ..., nan, nan, nan], grad_fn=<SelectBackward0>)\n"
     ]
    },
    {
     "data": {
      "image/png": "[encoded data removed]",
      "text/plain": [
       "<Figure size 720x360 with 2 Axes>"
      ]
     },
     "metadata": {
      "needs_background": "light"
     },
     "output_type": "display_data"
    }
   ],
   "source": [
    "test_model(feedforward, training_X, training_Y)"
   ]
  }
 ],
 "metadata": {
  "interpreter": {
   "hash": "40d3a090f54c6569ab1632332b64b2c03c39dcf918b08424e98f38b5ae0af88f"
  },
  "kernelspec": {
   "display_name": "Python 3.9.7 ('base')",
   "language": "python",
   "name": "python3"
  },
  "language_info": {
   "codemirror_mode": {
    "name": "ipython",
    "version": 3
   },
   "file_extension": ".py",
   "mimetype": "text/x-python",
   "name": "python",
   "nbconvert_exporter": "python",
   "pygments_lexer": "ipython3",
   "version": "3.9.7"
  },
  "orig_nbformat": 4
 },
 "nbformat": 4,
 "nbformat_minor": 2
}
