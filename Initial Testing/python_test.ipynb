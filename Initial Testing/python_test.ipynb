{
 "cells": [
  {
   "cell_type": "markdown",
   "metadata": {},
   "source": [
    "### Python Tester "
   ]
  },
  {
   "cell_type": "code",
   "execution_count": 1,
   "metadata": {},
   "outputs": [],
   "source": [
    "import numpy as np\n",
    "import matplotlib.pyplot as plt\n",
    "import pandas as pd\n",
    "import scipy.io\n",
    "from scipy.stats import zscore\n",
    "import math\n",
    "from sklearn.decomposition import DictionaryLearning\n",
    "from sklearn.decomposition import PCA\n",
    "from sktime.classification.dictionary_based import IndividualTDE\n",
    "from sklearn import preprocessing\n",
    "from sklearn.linear_model import orthogonal_mp\n",
    "from sklearn.linear_model import lasso_path\n",
    "from sklearn.linear_model import lars_path\n",
    "from pandasgui import show\n",
    "import pickle\n",
    "import matplotlib.patches as mpatches\n",
    "import seaborn as sns\n",
    "from matplotlib import rc"
   ]
  },
  {
   "cell_type": "code",
   "execution_count": null,
   "metadata": {},
   "outputs": [],
   "source": []
  }
 ],
 "metadata": {
  "interpreter": {
   "hash": "44638824d9dcd976e78149e555bb6adf54ebcfbdf0e35f7a2dd19741f83cb07a"
  },
  "kernelspec": {
   "display_name": "Python 3.10.1 64-bit",
   "language": "python",
   "name": "python3"
  },
  "language_info": {
   "codemirror_mode": {
    "name": "ipython",
    "version": 3
   },
   "file_extension": ".py",
   "mimetype": "text/x-python",
   "name": "python",
   "nbconvert_exporter": "python",
   "pygments_lexer": "ipython3",
   "version": "3.10.1"
  },
  "orig_nbformat": 4
 },
 "nbformat": 4,
 "nbformat_minor": 2
}
